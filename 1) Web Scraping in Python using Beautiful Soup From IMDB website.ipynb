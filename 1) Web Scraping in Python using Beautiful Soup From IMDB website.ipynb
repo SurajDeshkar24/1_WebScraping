{
 "cells": [
  {
   "cell_type": "markdown",
   "id": "aebac34f",
   "metadata": {},
   "source": [
    "# Web Scraping in Python using Beautiful Soup From IMDB website"
   ]
  },
  {
   "cell_type": "code",
   "execution_count": 47,
   "id": "24c37ab0",
   "metadata": {},
   "outputs": [],
   "source": [
    "# I have install beautifulsoup and then import\n",
    "from bs4 import BeautifulSoup"
   ]
  },
  {
   "cell_type": "code",
   "execution_count": 48,
   "id": "a8254af5",
   "metadata": {},
   "outputs": [],
   "source": [
    "# importing requests to get data from the URL and openpyxl to export the data into excel sheet.\n",
    "import requests, openpyxl"
   ]
  },
  {
   "cell_type": "code",
   "execution_count": 49,
   "id": "ca5279d9",
   "metadata": {},
   "outputs": [],
   "source": [
    "excel = openpyxl.Workbook()"
   ]
  },
  {
   "cell_type": "code",
   "execution_count": 50,
   "id": "41b86336",
   "metadata": {},
   "outputs": [
    {
     "name": "stdout",
     "output_type": "stream",
     "text": [
      "['Sheet']\n"
     ]
    }
   ],
   "source": [
    "print(excel.sheetnames)"
   ]
  },
  {
   "cell_type": "code",
   "execution_count": 51,
   "id": "0fdc0e62",
   "metadata": {},
   "outputs": [],
   "source": [
    "sheet = excel.active"
   ]
  },
  {
   "cell_type": "code",
   "execution_count": 52,
   "id": "6e3c3ea7",
   "metadata": {},
   "outputs": [
    {
     "name": "stdout",
     "output_type": "stream",
     "text": [
      "['Top Rated Movies']\n"
     ]
    }
   ],
   "source": [
    "# Giving a new title to the sheet\n",
    "sheet.title = 'Top Rated Movies'\n",
    "print(excel.sheetnames)"
   ]
  },
  {
   "cell_type": "code",
   "execution_count": 53,
   "id": "3503ba7f",
   "metadata": {},
   "outputs": [],
   "source": [
    "# Creating clumns in excel sheet\n",
    "sheet.append(['Movie Rank', 'Movie Name', 'Year Of Relese','IMDB Rating'])"
   ]
  },
  {
   "cell_type": "code",
   "execution_count": 54,
   "id": "7ba1a8ff",
   "metadata": {},
   "outputs": [],
   "source": [
    "# Geting data from imdb URL \n",
    "source = requests.get('https://www.imdb.com/chart/top/')\n",
    "source.raise_for_status()  # raise_for_status() is used to show if the url specified is correct or not.\n",
    "                           # Simpliy it will show the error if url is incorrect.  "
   ]
  },
  {
   "cell_type": "code",
   "execution_count": 55,
   "id": "285e5f0b",
   "metadata": {},
   "outputs": [],
   "source": [
    "soup = BeautifulSoup(source.text,'html.parser')"
   ]
  },
  {
   "cell_type": "code",
   "execution_count": null,
   "id": "70d3f399",
   "metadata": {},
   "outputs": [],
   "source": [
    "print(soup)"
   ]
  },
  {
   "cell_type": "code",
   "execution_count": 57,
   "id": "a87ab71a",
   "metadata": {},
   "outputs": [],
   "source": [
    "# Found the actual tag inside all the data is present.\n",
    "movies = soup.find('tbody', class_=\"lister-list\").find_all('tr')"
   ]
  },
  {
   "cell_type": "code",
   "execution_count": 58,
   "id": "db74f202",
   "metadata": {},
   "outputs": [
    {
     "name": "stdout",
     "output_type": "stream",
     "text": [
      "250\n"
     ]
    }
   ],
   "source": [
    "print(len(movies))"
   ]
  },
  {
   "cell_type": "code",
   "execution_count": null,
   "id": "64574ad8",
   "metadata": {},
   "outputs": [],
   "source": [
    "# Collecting all data using for loop and exporting into excel sheet.\n",
    "for movie in movies:\n",
    "    name = movie.find('td',class_=\"titleColumn\").a.text\n",
    "    rank = movie.find('td',class_=\"titleColumn\").get_text(strip=True).split('.')[0]\n",
    "    year = movie.find('td',class_=\"titleColumn\").span.text.strip('()')\n",
    "    rating = movie.find('td',class_=\"ratingColumn imdbRating\").strong.text\n",
    "    print(rank,name,year,rating)\n",
    "    sheet.append([rank,name,year,rating])"
   ]
  },
  {
   "cell_type": "code",
   "execution_count": 60,
   "id": "97d75874",
   "metadata": {},
   "outputs": [],
   "source": [
    "# Saving excel file  \n",
    "excel.save('IMDB Movies Rating.xlsx ')"
   ]
  }
 ],
 "metadata": {
  "kernelspec": {
   "display_name": "Python 3 (ipykernel)",
   "language": "python",
   "name": "python3"
  },
  "language_info": {
   "codemirror_mode": {
    "name": "ipython",
    "version": 3
   },
   "file_extension": ".py",
   "mimetype": "text/x-python",
   "name": "python",
   "nbconvert_exporter": "python",
   "pygments_lexer": "ipython3",
   "version": "3.9.7"
  }
 },
 "nbformat": 4,
 "nbformat_minor": 5
}
